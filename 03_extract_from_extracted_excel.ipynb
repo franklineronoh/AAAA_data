{
 "cells": [
  {
   "cell_type": "code",
   "execution_count": 2,
   "id": "659d28d7",
   "metadata": {},
   "outputs": [
    {
     "name": "stdout",
     "output_type": "stream",
     "text": [
      "❌ Error processing ~$Bomet_gendered_enterprise.xlsx: Excel file format cannot be determined, you must specify an engine manually.\n",
      "❌ Error processing ~$Bungoma_gendered_enterprise.xlsx: Excel file format cannot be determined, you must specify an engine manually.\n",
      "❌ Error processing ~$Busia_gendered_enterprise.xlsx: Excel file format cannot be determined, you must specify an engine manually.\n",
      "❌ Error processing ~$Elgeyo_gendered_enterprise.xlsx: Excel file format cannot be determined, you must specify an engine manually.\n",
      "✅ Finished combining. Output saved in: d:\\AAAA_Data\\GENDER\\county_excel\n"
     ]
    }
   ],
   "source": [
    "import os\n",
    "import pandas as pd\n",
    "import json\n",
    "from pathlib import Path\n",
    "from collections import defaultdict\n",
    "\n",
    "# ==========================\n",
    "# 1️⃣ AUTO-DETECT WORKING DIRECTORY\n",
    "# ==========================\n",
    "try:\n",
    "    BASE_DIR = Path(os.path.abspath(__file__)).parent\n",
    "except NameError:\n",
    "    BASE_DIR = Path.cwd()  # for interactive use like Jupyter\n",
    "\n",
    "INPUT_DIR = BASE_DIR / \"extracted_excel\"\n",
    "LOOKUP_PATH = BASE_DIR / \"question_to_filename_lookup.json\"\n",
    "OUTPUT_DIR = BASE_DIR / \"county_excel\"\n",
    "os.makedirs(OUTPUT_DIR, exist_ok=True)\n",
    "\n",
    "# ==========================\n",
    "# 2️⃣ LOAD LOOKUP JSON\n",
    "# ==========================\n",
    "with open(LOOKUP_PATH, \"r\", encoding=\"utf-8\") as f:\n",
    "    question_lookup = json.load(f)\n",
    "\n",
    "# ==========================\n",
    "# 3️⃣ COMBINE BY QUESTION\n",
    "# ==========================\n",
    "combined_data = defaultdict(list)\n",
    "excel_files = list(INPUT_DIR.glob(\"*_gendered_enterprise.xlsx\"))\n",
    "\n",
    "for file in excel_files:\n",
    "    try:\n",
    "        df = pd.read_excel(file)\n",
    "        county_name = file.stem.split(\"_\")[0]\n",
    "\n",
    "        for full_question, short_name in question_lookup.items():\n",
    "            matches = df[df[\"Question\"].str.strip() == full_question.strip()]\n",
    "            if not matches.empty:\n",
    "                matches = matches.copy()\n",
    "                matches[\"County\"] = county_name\n",
    "                combined_data[short_name].append(matches)\n",
    "\n",
    "    except Exception as e:\n",
    "        print(f\"❌ Error processing {file.name}: {e}\")\n",
    "\n",
    "# ==========================\n",
    "# 4️⃣ SAVE OUTPUTS\n",
    "# ==========================\n",
    "for short_name, dataframes in combined_data.items():\n",
    "    combined_df = pd.concat(dataframes, ignore_index=True)\n",
    "    output_file = OUTPUT_DIR / f\"{short_name}.xlsx\"\n",
    "    combined_df.to_excel(output_file, index=False)\n",
    "\n",
    "print(f\"✅ Finished combining. Output saved in: {OUTPUT_DIR}\")\n"
   ]
  }
 ],
 "metadata": {
  "kernelspec": {
   "display_name": "base",
   "language": "python",
   "name": "python3"
  },
  "language_info": {
   "codemirror_mode": {
    "name": "ipython",
    "version": 3
   },
   "file_extension": ".py",
   "mimetype": "text/x-python",
   "name": "python",
   "nbconvert_exporter": "python",
   "pygments_lexer": "ipython3",
   "version": "3.11.7"
  }
 },
 "nbformat": 4,
 "nbformat_minor": 5
}
