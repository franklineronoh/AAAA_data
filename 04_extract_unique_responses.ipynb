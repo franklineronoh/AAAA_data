{
 "cells": [
  {
   "cell_type": "code",
   "execution_count": 4,
   "id": "505f4221",
   "metadata": {},
   "outputs": [
    {
     "name": "stdout",
     "output_type": "stream",
     "text": [
      "✅ barriers_ict_use.txt written with 26 unique responses.\n",
      "✅ barriers_role_expansion.txt written with 24 unique responses.\n",
      "✅ barriers_women_leadership.txt written with 22 unique responses.\n",
      "✅ climate_influence_enterprises.txt written with 29 unique responses.\n",
      "✅ community_engagement_selection.txt written with 28 unique responses.\n",
      "✅ comparison_male_enterprises.txt written with 23 unique responses.\n",
      "✅ competition_value_addition.txt written with 26 unique responses.\n",
      "✅ data_sources_enterprises.txt written with 22 unique responses.\n",
      "✅ economic_benefits_women.txt written with 25 unique responses.\n",
      "✅ enterprise_leadership_by_group.txt written with 25 unique responses.\n",
      "✅ enterprise_replicability.txt written with 28 unique responses.\n",
      "✅ enterprise_selection_criteria.txt written with 24 unique responses.\n",
      "✅ enterprise_success_factors.txt written with 28 unique responses.\n",
      "✅ improving_vc_market_access.txt written with 24 unique responses.\n",
      "✅ market_demand_vc.txt written with 28 unique responses.\n",
      "✅ new_climate_enterprises.txt written with 31 unique responses.\n",
      "✅ policies_climate_enterprises.txt written with 21 unique responses.\n",
      "✅ policy_frameworks_supporting.txt written with 21 unique responses.\n",
      "✅ policy_gaps_enterprises.txt written with 26 unique responses.\n",
      "✅ policy_investment_recommendations.txt written with 28 unique responses.\n",
      "✅ preference_patterns_by_group.txt written with 29 unique responses.\n",
      "✅ resource_access_disparities.txt written with 28 unique responses.\n",
      "✅ roles_by_gender_and_age.txt written with 27 unique responses.\n",
      "✅ socioeconomic_benefits.txt written with 23 unique responses.\n",
      "✅ support_needs_women_marginalized.txt written with 21 unique responses.\n",
      "✅ women_collectives_landscape.txt written with 25 unique responses.\n",
      "✅ women_control_vc_stages.txt written with 23 unique responses.\n",
      "✅ women_dominance_factors.txt written with 27 unique responses.\n",
      "✅ women_enterprise_types.txt written with 23 unique responses.\n"
     ]
    }
   ],
   "source": [
    "import os\n",
    "import pandas as pd\n",
    "from pathlib import Path\n",
    "\n",
    "# ==========================\n",
    "# 1️⃣ AUTO-DETECT WORKING DIRECTORY\n",
    "# ==========================\n",
    "try:\n",
    "    BASE_DIR = Path(os.path.abspath(__file__)).parent\n",
    "except NameError:\n",
    "    BASE_DIR = Path.cwd()  # For Jupyter or interactive run\n",
    "\n",
    "INPUT_DIR = BASE_DIR / \"county_excel\"\n",
    "OUTPUT_DIR = BASE_DIR / \"county_unique_responses\"\n",
    "os.makedirs(OUTPUT_DIR, exist_ok=True)\n",
    "\n",
    "# ==========================\n",
    "# 2️⃣ PROCESS EACH QUESTION FILE\n",
    "# ==========================\n",
    "for file in INPUT_DIR.glob(\"*.xlsx\"):\n",
    "    try:\n",
    "        df = pd.read_excel(file)\n",
    "        if \"Response\" not in df.columns:\n",
    "            print(f\"⚠️ Skipping {file.name}: No 'Response' column found.\")\n",
    "            continue\n",
    "\n",
    "        responses = df[\"Response\"].dropna().astype(str).str.strip()\n",
    "        unique_responses = sorted(set(responses))\n",
    "\n",
    "        # Write to .txt file named after question short name\n",
    "        txt_filename = file.stem + \".txt\"\n",
    "        output_path = OUTPUT_DIR / txt_filename\n",
    "\n",
    "        with open(output_path, \"w\", encoding=\"utf-8\") as f:\n",
    "            for line in unique_responses:\n",
    "                f.write(line + \"\\n\")\n",
    "\n",
    "        print(f\"✅ {txt_filename} written with {len(unique_responses)} unique responses.\")\n",
    "\n",
    "    except Exception as e:\n",
    "        print(f\"❌ Error with {file.name}: {e}\")\n"
   ]
  }
 ],
 "metadata": {
  "kernelspec": {
   "display_name": "base",
   "language": "python",
   "name": "python3"
  },
  "language_info": {
   "codemirror_mode": {
    "name": "ipython",
    "version": 3
   },
   "file_extension": ".py",
   "mimetype": "text/x-python",
   "name": "python",
   "nbconvert_exporter": "python",
   "pygments_lexer": "ipython3",
   "version": "3.11.7"
  }
 },
 "nbformat": 4,
 "nbformat_minor": 5
}
