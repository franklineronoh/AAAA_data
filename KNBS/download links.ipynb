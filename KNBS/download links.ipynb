{
 "cells": [
  {
   "cell_type": "code",
   "execution_count": null,
   "id": "8619e61b",
   "metadata": {},
   "outputs": [
    {
     "name": "stdout",
     "output_type": "stream",
     "text": [
      "🔗 Found 6 download links.\n",
      "[1] ⏬ Downloading: 2019-Kenya-population-and-Housing-Census-Population-households-density-by-administrative-units.xlsx\n",
      "[1] ✅ Saved to: c:\\Users\\Rono\\Downloads\\AAAA Hackathon\\Datasets\\KNBS_2019_Census_Downloads\\2019-Kenya-population-and-Housing-Census-Population-households-density-by-administrative-units.xlsx\n",
      "[2] ⏬ Downloading: 2019-Kenya-population-and-Housing-Census-Population-households-density-by-county.xlsx\n",
      "[2] ✅ Saved to: c:\\Users\\Rono\\Downloads\\AAAA Hackathon\\Datasets\\KNBS_2019_Census_Downloads\\2019-Kenya-population-and-Housing-Census-Population-households-density-by-county.xlsx\n",
      "[3] ⏬ Downloading: 2019-Kenya-population-and-Housing-Census-Population-households-density-by-sub-county.xlsx\n",
      "[3] ✅ Saved to: c:\\Users\\Rono\\Downloads\\AAAA Hackathon\\Datasets\\KNBS_2019_Census_Downloads\\2019-Kenya-population-and-Housing-Census-Population-households-density-by-sub-county.xlsx\n",
      "[4] ⏬ Downloading: 2019-Kenya-population-and-Housing-Census-Population-in-urban-centers-by-sex-and-urban-center.xlsx\n",
      "[4] ✅ Saved to: c:\\Users\\Rono\\Downloads\\AAAA Hackathon\\Datasets\\KNBS_2019_Census_Downloads\\2019-Kenya-population-and-Housing-Census-Population-in-urban-centers-by-sex-and-urban-center.xlsx\n",
      "[5] ⏬ Downloading: 2019-Kenya-population-and-Housing-Census-Urban-population-households-density-by-county.xlsx\n",
      "[5] ✅ Saved to: c:\\Users\\Rono\\Downloads\\AAAA Hackathon\\Datasets\\KNBS_2019_Census_Downloads\\2019-Kenya-population-and-Housing-Census-Urban-population-households-density-by-county.xlsx\n",
      "[6] ⏬ Downloading: 2019-Kenya-population-and-Housing-Census-Rural-population-households-density-by-county.xlsx\n",
      "[6] ✅ Saved to: c:\\Users\\Rono\\Downloads\\AAAA Hackathon\\Datasets\\KNBS_2019_Census_Downloads\\2019-Kenya-population-and-Housing-Census-Rural-population-households-density-by-county.xlsx\n",
      "\n",
      "📁 Done! Files saved in: c:\\Users\\Rono\\Downloads\\AAAA Hackathon\\Datasets\\KNBS_2019_Census_Downloads\n"
     ]
    },
    {
     "ename": "",
     "evalue": "",
     "output_type": "error",
     "traceback": [
      "\u001b[1;31mThe Kernel crashed while executing code in the current cell or a previous cell. \n",
      "\u001b[1;31mPlease review the code in the cell(s) to identify a possible cause of the failure. \n",
      "\u001b[1;31mClick <a href='https://aka.ms/vscodeJupyterKernelCrash'>here</a> for more info. \n",
      "\u001b[1;31mView Jupyter <a href='command:jupyter.viewOutput'>log</a> for further details."
     ]
    }
   ],
   "source": [
    "import os\n",
    "import requests\n",
    "import urllib3\n",
    "\n",
    "# === Disable SSL warnings ===\n",
    "urllib3.disable_warnings(urllib3.exceptions.InsecureRequestWarning)\n",
    "\n",
    "# === Step 1: Setup working directory ===\n",
    "base_dir = os.getcwd()  # Should be inside \"Datasets\"\n",
    "txt_file = os.path.join(base_dir, \"KNBS_2019_census.txt\")\n",
    "output_dir = os.path.join(base_dir, \"KNBS_2019_Census_Downloads\")\n",
    "os.makedirs(output_dir, exist_ok=True)\n",
    "\n",
    "# === Step 2: Read links ===\n",
    "if not os.path.exists(txt_file):\n",
    "    raise FileNotFoundError(f\"❌ File not found: {txt_file}\")\n",
    "\n",
    "with open(txt_file, \"r\", encoding=\"utf-8\") as f:\n",
    "    links = [line.strip() for line in f if line.strip().startswith(\"http\")]\n",
    "\n",
    "print(f\"🔗 Found {len(links)} download links.\")\n",
    "\n",
    "# === Step 3: Download files ===\n",
    "for i, url in enumerate(links, 1):\n",
    "    filename = os.path.basename(url)\n",
    "    output_path = os.path.join(output_dir, filename)\n",
    "\n",
    "    if os.path.exists(output_path):\n",
    "        print(f\"[{i}] ✅ Already exists: {filename}\")\n",
    "        continue\n",
    "\n",
    "    try:\n",
    "        print(f\"[{i}] ⏬ Downloading: {filename}\")\n",
    "        response = requests.get(url, timeout=30, verify=False)  # disable SSL check\n",
    "        response.raise_for_status()\n",
    "\n",
    "        with open(output_path, \"wb\") as f:\n",
    "            f.write(response.content)\n",
    "\n",
    "        print(f\"[{i}] ✅ Saved to: {output_path}\")\n",
    "    except Exception as e:\n",
    "        print(f\"[{i}] ❌ Failed to download {filename}: {e}\")\n",
    "\n",
    "print(f\"\\n📁 Done! Files saved in: {output_dir}\")\n"
   ]
  }
 ],
 "metadata": {
  "kernelspec": {
   "display_name": "base",
   "language": "python",
   "name": "python3"
  },
  "language_info": {
   "codemirror_mode": {
    "name": "ipython",
    "version": 3
   },
   "file_extension": ".py",
   "mimetype": "text/x-python",
   "name": "python",
   "nbconvert_exporter": "python",
   "pygments_lexer": "ipython3",
   "version": "3.11.7"
  }
 },
 "nbformat": 4,
 "nbformat_minor": 5
}
