{
 "cells": [
  {
   "cell_type": "code",
   "execution_count": 6,
   "id": "f10da4d5",
   "metadata": {},
   "outputs": [
    {
     "name": "stdout",
     "output_type": "stream",
     "text": [
      "✅ Status written to: d:\\AAAA_Data\\GENDER\\questionnaire_response_status.txt\n"
     ]
    }
   ],
   "source": [
    "import os\n",
    "from docx import Document\n",
    "from rapidfuzz import fuzz, process\n",
    "\n",
    "# ============ 1. AUTO-DETECT WORKING DIRECTORY ============\n",
    "try:\n",
    "    BASE_DIR = os.path.dirname(os.path.abspath(__file__))\n",
    "except NameError:\n",
    "    BASE_DIR = os.getcwd()\n",
    "\n",
    "QUESTIONNAIRE_DIR = os.path.join(BASE_DIR, \"Questionnaires\")\n",
    "QUESTION_LOOKUP_FILE = os.path.join(BASE_DIR, \"questionnaire_questions.txt\")\n",
    "OUTPUT_FILE = os.path.join(BASE_DIR, \"questionnaire_response_status.txt\")\n",
    "\n",
    "# ============ 2. Load Master List of Questions ============\n",
    "with open(QUESTION_LOOKUP_FILE, \"r\", encoding=\"utf-8\") as f:\n",
    "    KNOWN_QUESTIONS = [line.strip() for line in f if line.strip()]\n",
    "\n",
    "# ============ 3. Function to Check if Text is a Known Question ============\n",
    "def is_question(text, threshold=90):\n",
    "    text = text.strip()\n",
    "    if not text:\n",
    "        return True  # Treat blank lines as non-responses\n",
    "\n",
    "    match, score, _ = process.extractOne(text, KNOWN_QUESTIONS, scorer=fuzz.partial_ratio)\n",
    "    return score >= threshold\n",
    "\n",
    "# ============ 4. Main Logic ============\n",
    "summary = []\n",
    "\n",
    "for filename in os.listdir(QUESTIONNAIRE_DIR):\n",
    "    if not filename.lower().endswith(\".docx\"):\n",
    "        continue\n",
    "\n",
    "    filepath = os.path.join(QUESTIONNAIRE_DIR, filename)\n",
    "    doc = Document(filepath)\n",
    "\n",
    "    response_lines = []\n",
    "\n",
    "    # Check all paragraphs\n",
    "    for para in doc.paragraphs:\n",
    "        txt = para.text.strip()\n",
    "        if txt and not is_question(txt):\n",
    "            response_lines.append(txt)\n",
    "\n",
    "    # Check all table cells\n",
    "    for table in doc.tables:\n",
    "        for row in table.rows:\n",
    "            for cell in row.cells:\n",
    "                txt = cell.text.strip()\n",
    "                if txt and not is_question(txt):\n",
    "                    response_lines.append(txt)\n",
    "\n",
    "    # Determine status\n",
    "    if len(response_lines) == 0:\n",
    "        summary.append(f\"{filename}: ❌ Empty (no responses)\")\n",
    "    else:\n",
    "        summary.append(f\"{filename}: ✅ Has responses\")\n",
    "\n",
    "# ============ 5. Write to Output File ============\n",
    "with open(OUTPUT_FILE, \"w\", encoding=\"utf-8\") as f:\n",
    "    for line in sorted(summary):\n",
    "        f.write(line + \"\\n\")\n",
    "\n",
    "print(f\"✅ Status written to: {OUTPUT_FILE}\")\n"
   ]
  }
 ],
 "metadata": {
  "kernelspec": {
   "display_name": "base",
   "language": "python",
   "name": "python3"
  },
  "language_info": {
   "codemirror_mode": {
    "name": "ipython",
    "version": 3
   },
   "file_extension": ".py",
   "mimetype": "text/x-python",
   "name": "python",
   "nbconvert_exporter": "python",
   "pygments_lexer": "ipython3",
   "version": "3.11.7"
  }
 },
 "nbformat": 4,
 "nbformat_minor": 5
}
